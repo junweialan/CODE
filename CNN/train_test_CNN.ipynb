{
 "cells": [
  {
   "cell_type": "code",
   "execution_count": 9,
   "metadata": {},
   "outputs": [],
   "source": [
    "import matplotlib.pyplot as plt\n",
    "import numpy as np\n",
    "import pandas as pd\n",
    "from sklearn.model_selection import train_test_split\n",
    "from sklearn.metrics import mean_squared_error\n",
    "from scipy.signal import stft\n",
    "import os\n",
    "import pandas as pd\n",
    "import sys\n",
    "import glob\n",
    "from scipy.stats import norm\n",
    "from sklearn.preprocessing import MinMaxScaler\n",
    "from ipynb.fs.full.CNN_model import CNN_Model, Evaluator,BlandAltman, normalize_data, denormalize_data\n",
    "from sklearn.metrics import mean_squared_error, mean_absolute_error,mean_absolute_percentage_error\n",
    "import tensorflow as tf\n",
    "import random\n",
    "from tensorflow.keras.callbacks import EarlyStopping"
   ]
  },
  {
   "cell_type": "code",
   "execution_count": 10,
   "metadata": {},
   "outputs": [],
   "source": [
    "def set_seeds(seed):\n",
    "    np.random.seed(seed)\n",
    "    tf.random.set_seed(seed)\n",
    "    random.seed(seed)\n",
    "\n",
    "seed_value = 20\n",
    "set_seeds(seed_value)"
   ]
  },
  {
   "cell_type": "code",
   "execution_count": 11,
   "metadata": {},
   "outputs": [],
   "source": [
    "data = np.load(r'F:\\junwei\\CNN\\CNN_keras\\data.npy')\n",
    "output_data = pd.read_excel('F:\\junwei\\dataset\\_MASTER_modified.xlsx',usecols=['Crs', 'R'])\n",
    "train = pd.read_csv(r'F:\\junwei\\CNN\\CNN_keras\\train.csv')\n",
    "test = pd.read_csv(r'F:\\junwei\\CNN\\CNN_keras\\test.csv')\n",
    "val = pd.read_csv(r'F:\\junwei\\CNN\\CNN_keras\\val.csv')"
   ]
  },
  {
   "cell_type": "code",
   "execution_count": 12,
   "metadata": {},
   "outputs": [],
   "source": [
    "volume = data[:,:901,0]\n",
    "flow = data[:,:901,1]\n",
    "pressure= data[:,:901,2]\n",
    "Crs = output_data['Crs']\n",
    "R = output_data['R']\n",
    "Crs = Crs.T\n",
    "R= R.T\n",
    "flow = flow.T\n",
    "pressure = pressure.T\n",
    "volume = volume.T"
   ]
  },
  {
   "cell_type": "code",
   "execution_count": 13,
   "metadata": {},
   "outputs": [
    {
     "name": "stdout",
     "output_type": "stream",
     "text": [
      "Crs shape is:  (442,)\n",
      "R shape is:  (442,)\n",
      "flow shape is:  (901, 442)\n",
      "pressure shape is:  (901, 442)\n",
      "Volume shape is:  (901, 442)\n"
     ]
    }
   ],
   "source": [
    "print('Crs shape is: ', Crs.shape)\n",
    "print('R shape is: ', R.shape)\n",
    "print('flow shape is: ', flow.shape)\n",
    "print('pressure shape is: ',pressure.shape)\n",
    "print('Volume shape is: ', volume.shape)\n"
   ]
  },
  {
   "cell_type": "code",
   "execution_count": 14,
   "metadata": {},
   "outputs": [],
   "source": [
    "num_examples = flow.shape[0]\n",
    "num_samples = flow.shape[1]\n",
    "\n",
    "(min_flow, max_flow, flow) = normalize_data(flow)\n",
    "(min_volume, max_volume, volume) = normalize_data(volume)\n",
    "(min_paw, max_paw, pressure) = normalize_data(pressure)\n",
    "(min_resistance, max_resistance, R) = normalize_data(R)\n",
    "(min_capacitance, max_capacitance, Crs) = normalize_data(Crs)"
   ]
  },
  {
   "cell_type": "code",
   "execution_count": 15,
   "metadata": {},
   "outputs": [],
   "source": [
    "Crs = np.array(Crs).reshape(-1, 1)  # Reshape to (442, 1)\n",
    "R = np.array(R).reshape(-1, 1)  \n",
    "output_data = np.concatenate((Crs,R),axis=1)\n",
    "output_data = pd.DataFrame(output_data)\n",
    "output_data = output_data.rename(columns={0: \"Crs\", 1: \"R\"})\n",
    "signals = np.stack([flow, volume, pressure], axis=2)\n",
    "signals = np.transpose(signals, (1, 0, 2))"
   ]
  },
  {
   "cell_type": "code",
   "execution_count": 16,
   "metadata": {},
   "outputs": [],
   "source": [
    "indices_train = train['Unnamed: 0'].values\n",
    "indices_test = test['Unnamed: 0'].values\n",
    "indices_val = val['Unnamed: 0'].values\n",
    "train_input = signals[indices_train,:,:]\n",
    "test_input = signals[indices_test,:,:]\n",
    "val_input = signals[indices_val,:,:]\n",
    "train_output = output_data.loc[indices_train]\n",
    "test_output = output_data.loc[indices_test]\n",
    "val_output = output_data.loc[indices_val]"
   ]
  },
  {
   "cell_type": "code",
   "execution_count": 17,
   "metadata": {},
   "outputs": [
    {
     "data": {
      "text/plain": [
       "5850"
      ]
     },
     "execution_count": 17,
     "metadata": {},
     "output_type": "execute_result"
    }
   ],
   "source": [
    "batch_size = 8\n",
    "num_samples = 309\n",
    "total_epochs = 150 \n",
    "\n",
    "updates_per_epoch = num_samples // batch_size\n",
    "if num_samples % batch_size != 0:\n",
    "    updates_per_epoch += 1  \n",
    "\n",
    "decay_steps = updates_per_epoch * total_epochs\n",
    "decay_steps"
   ]
  },
  {
   "cell_type": "code",
   "execution_count": 18,
   "metadata": {},
   "outputs": [
    {
     "name": "stdout",
     "output_type": "stream",
     "text": [
      "Epoch 1/150\n",
      "10/10 [==============================] - 4s 69ms/step - loss: 1.4168 - val_loss: 0.0879\n",
      "Epoch 2/150\n",
      "10/10 [==============================] - 0s 25ms/step - loss: 0.8285 - val_loss: 0.0764\n",
      "Epoch 3/150\n",
      "10/10 [==============================] - 0s 26ms/step - loss: 0.4908 - val_loss: 0.0725\n",
      "Epoch 4/150\n",
      "10/10 [==============================] - 0s 34ms/step - loss: 0.2783 - val_loss: 0.0712\n",
      "Epoch 5/150\n",
      "10/10 [==============================] - 0s 40ms/step - loss: 0.1615 - val_loss: 0.0631\n",
      "Epoch 6/150\n",
      "10/10 [==============================] - 0s 32ms/step - loss: 0.1028 - val_loss: 0.0637\n",
      "Epoch 7/150\n",
      "10/10 [==============================] - 0s 37ms/step - loss: 0.0739 - val_loss: 0.0629\n",
      "Epoch 8/150\n",
      "10/10 [==============================] - 0s 36ms/step - loss: 0.0600 - val_loss: 0.0673\n",
      "Epoch 9/150\n",
      "10/10 [==============================] - 0s 33ms/step - loss: 0.0462 - val_loss: 0.0654\n",
      "Epoch 10/150\n",
      "10/10 [==============================] - 0s 37ms/step - loss: 0.0460 - val_loss: 0.0712\n",
      "Epoch 11/150\n",
      "10/10 [==============================] - 0s 34ms/step - loss: 0.0459 - val_loss: 0.0606\n",
      "Epoch 12/150\n",
      "10/10 [==============================] - 0s 35ms/step - loss: 0.0407 - val_loss: 0.0503\n",
      "Epoch 13/150\n",
      "10/10 [==============================] - 0s 35ms/step - loss: 0.0381 - val_loss: 0.0452\n",
      "Epoch 14/150\n",
      "10/10 [==============================] - 0s 39ms/step - loss: 0.0348 - val_loss: 0.0391\n",
      "Epoch 15/150\n",
      "10/10 [==============================] - 0s 31ms/step - loss: 0.0363 - val_loss: 0.0362\n",
      "Epoch 16/150\n",
      "10/10 [==============================] - 0s 36ms/step - loss: 0.0335 - val_loss: 0.0354\n",
      "Epoch 17/150\n",
      "10/10 [==============================] - 0s 22ms/step - loss: 0.0326 - val_loss: 0.0328\n",
      "Epoch 18/150\n",
      "10/10 [==============================] - 0s 22ms/step - loss: 0.0285 - val_loss: 0.0287\n",
      "Epoch 19/150\n",
      "10/10 [==============================] - 0s 30ms/step - loss: 0.0287 - val_loss: 0.0288\n",
      "Epoch 20/150\n",
      "10/10 [==============================] - 0s 35ms/step - loss: 0.0286 - val_loss: 0.0274\n",
      "Epoch 21/150\n",
      "10/10 [==============================] - 0s 32ms/step - loss: 0.0270 - val_loss: 0.0282\n",
      "Epoch 22/150\n",
      "10/10 [==============================] - 0s 31ms/step - loss: 0.0277 - val_loss: 0.0323\n",
      "Epoch 23/150\n",
      "10/10 [==============================] - 0s 38ms/step - loss: 0.0269 - val_loss: 0.0294\n",
      "Epoch 24/150\n",
      "10/10 [==============================] - 0s 26ms/step - loss: 0.0244 - val_loss: 0.0264\n",
      "Epoch 25/150\n",
      "10/10 [==============================] - 0s 36ms/step - loss: 0.0248 - val_loss: 0.0242\n",
      "Epoch 26/150\n",
      "10/10 [==============================] - 0s 38ms/step - loss: 0.0253 - val_loss: 0.0256\n",
      "Epoch 27/150\n",
      "10/10 [==============================] - 0s 39ms/step - loss: 0.0236 - val_loss: 0.0277\n",
      "Epoch 28/150\n",
      "10/10 [==============================] - 0s 37ms/step - loss: 0.0221 - val_loss: 0.0250\n",
      "Epoch 29/150\n",
      "10/10 [==============================] - 0s 39ms/step - loss: 0.0253 - val_loss: 0.0244\n",
      "Epoch 30/150\n",
      "10/10 [==============================] - 0s 37ms/step - loss: 0.0201 - val_loss: 0.0258\n",
      "Epoch 31/150\n",
      "10/10 [==============================] - 0s 36ms/step - loss: 0.0221 - val_loss: 0.0233\n",
      "Epoch 32/150\n",
      "10/10 [==============================] - 0s 36ms/step - loss: 0.0227 - val_loss: 0.0251\n",
      "Epoch 33/150\n",
      "10/10 [==============================] - 0s 24ms/step - loss: 0.0208 - val_loss: 0.0248\n",
      "Epoch 34/150\n",
      "10/10 [==============================] - 0s 31ms/step - loss: 0.0202 - val_loss: 0.0234\n",
      "Epoch 35/150\n",
      "10/10 [==============================] - 0s 36ms/step - loss: 0.0215 - val_loss: 0.0259\n",
      "Epoch 36/150\n",
      "10/10 [==============================] - 0s 34ms/step - loss: 0.0209 - val_loss: 0.0256\n",
      "Epoch 37/150\n",
      "10/10 [==============================] - 0s 40ms/step - loss: 0.0185 - val_loss: 0.0251\n",
      "Epoch 38/150\n",
      "10/10 [==============================] - 0s 40ms/step - loss: 0.0183 - val_loss: 0.0255\n",
      "Epoch 39/150\n",
      "10/10 [==============================] - 0s 36ms/step - loss: 0.0208 - val_loss: 0.0263\n",
      "Epoch 40/150\n",
      "10/10 [==============================] - 0s 36ms/step - loss: 0.0178 - val_loss: 0.0261\n",
      "Epoch 41/150\n",
      "10/10 [==============================] - 0s 37ms/step - loss: 0.0176 - val_loss: 0.0245\n"
     ]
    }
   ],
   "source": [
    "model = CNN_Model(signals.shape[1],input_volume = 3).get_model()\n",
    "early_stopping = EarlyStopping(monitor='val_loss', patience=10)\n",
    "history = model.fit(train_input, train_output, epochs=150, verbose=1,\n",
    "                    validation_data=(val_input, val_output),\n",
    "                    callbacks=[early_stopping])"
   ]
  },
  {
   "cell_type": "code",
   "execution_count": 19,
   "metadata": {},
   "outputs": [
    {
     "name": "stdout",
     "output_type": "stream",
     "text": [
      "3/3 [==============================] - 0s 10ms/step\n"
     ]
    }
   ],
   "source": [
    "test_predictions = model.predict(test_input)"
   ]
  },
  {
   "cell_type": "code",
   "execution_count": 20,
   "metadata": {},
   "outputs": [
    {
     "data": {
      "text/plain": [
       "(67,)"
      ]
     },
     "execution_count": 20,
     "metadata": {},
     "output_type": "execute_result"
    }
   ],
   "source": [
    "test_predictions[:, 0].shape"
   ]
  },
  {
   "cell_type": "code",
   "execution_count": 21,
   "metadata": {},
   "outputs": [],
   "source": [
    "pre_data_unscaled1  = denormalize_data(test_predictions[:, 0], minimum=min_capacitance, maximum=max_capacitance)\n",
    "pre_data_unscaled2 = denormalize_data(test_predictions[:, 1], minimum= min_resistance, maximum=max_resistance )\n",
    "output_data_array = test_output.values\n",
    "output_data_unscaled1 = denormalize_data(output_data_array[:, 0], minimum=min_capacitance, maximum=max_capacitance)\n",
    "output_data_unscaled2 = denormalize_data(output_data_array[:, 1], minimum=min_resistance, maximum=max_resistance)"
   ]
  },
  {
   "cell_type": "code",
   "execution_count": 22,
   "metadata": {},
   "outputs": [],
   "source": [
    "#pre_data_unscaled1 = test_predictions[:, 0]\n",
    "#pre_data_unscaled2 = test_predictions[:, 1]\n",
    "#output_data_array = output_test.values\n",
    "#output_data_unscaled1 = output_data_array[:, 0]\n",
    "#output_data_unscaled2 = output_data_array[:, 1]"
   ]
  },
  {
   "cell_type": "code",
   "execution_count": 23,
   "metadata": {},
   "outputs": [],
   "source": [
    "#pre_data_unscaled1 = scaler1.inverse_transform(test_predictions[:, 0].reshape(-1, 1))\n",
    "#pre_data_unscaled2 = scaler2.inverse_transform(test_predictions[:, 1].reshape(-1, 1))"
   ]
  },
  {
   "cell_type": "code",
   "execution_count": 24,
   "metadata": {},
   "outputs": [
    {
     "data": {
      "text/plain": [
       "array([29.68207007, 37.66634384, 71.60883764, 44.34508799, 55.66840081,\n",
       "       42.46318195, 42.69832963, 45.05859788, 60.7282361 , 26.89293756,\n",
       "       39.39666313, 49.98936293, 53.86114235, 42.34923128, 45.25770745,\n",
       "       35.70934321, 37.89624054, 44.00244674, 43.44367473, 32.43893218,\n",
       "       43.94855865, 55.22004473, 29.99622476, 47.60288545, 55.62730459,\n",
       "       28.01969789, 39.15884133, 45.30537023, 89.05635828, 41.19253619,\n",
       "       40.91474235, 38.72326362, 38.6887359 , 32.58013945, 70.11306543,\n",
       "       44.84286187, 31.68434957, 31.91032807, 34.76636679, 49.09008545,\n",
       "       58.06818346, 43.54934276, 30.84813617, 58.67993702, 59.18976456,\n",
       "       35.06581704, 33.5086331 , 38.43287404, 39.38926041, 43.76606634,\n",
       "       56.97641268, 48.8231298 , 58.9039239 , 53.93397771, 49.16179748,\n",
       "       48.48976238, 41.31579748, 40.51348951, 53.77674492, 37.18250078,\n",
       "       47.98469305, 38.96368414, 41.51242822, 45.55817896, 47.91940255,\n",
       "       37.13019966, 74.78428187])"
      ]
     },
     "execution_count": 24,
     "metadata": {},
     "output_type": "execute_result"
    }
   ],
   "source": [
    "output_data_unscaled1"
   ]
  },
  {
   "cell_type": "code",
   "execution_count": 25,
   "metadata": {},
   "outputs": [],
   "source": [
    "#output_data_array = output_test.values\n",
    "#output_data_unscaled1 = scaler1.inverse_transform(output_data_array[:, 0].reshape(-1, 1))\n",
    "#output_data_unscaled2 = scaler2.inverse_transform(output_data_array[:, 1].reshape(-1, 1))"
   ]
  },
  {
   "cell_type": "code",
   "execution_count": 26,
   "metadata": {},
   "outputs": [],
   "source": [
    "# Instantiate the Evaluator class\n",
    "evaluator_c = Evaluator(output_data_unscaled1, pre_data_unscaled1)\n",
    "evaluator_r = Evaluator(output_data_unscaled2, pre_data_unscaled2)\n",
    "\n",
    "# Calculate the evaluation metrics\n",
    "mse1, mae1, nmse1, mape1, r2_1 = evaluator_c.evaluate()\n",
    "\n",
    "mse2, mae2, nmse2, mape2, r2_2 = evaluator_r.evaluate()\n",
    "\n",
    "#print(f'MSE: {mse}')\n",
    "#print(f'MAE_C: {mae1}')\n",
    "#print(f'NMSE_C: {nmse1}')\n",
    "#print(f'MAPE_C: {mape1}%')\n",
    "#print(f'R_square_C: {r2_1}%')\n",
    "#print(f'MAE_R: {mae2}')\n",
    "#print(f'NMSE_R: {nmse2}')\n",
    "#print(f'MAPE_R: {mape2}%')\n",
    "#print(f'R_square_R: {r2_2}%')"
   ]
  },
  {
   "cell_type": "code",
   "execution_count": 27,
   "metadata": {},
   "outputs": [
    {
     "name": "stdout",
     "output_type": "stream",
     "text": [
      "                   C          R\n",
      "Metric                         \n",
      "MSE       192.849930  30.221387\n",
      "MAE        10.739761   3.741938\n",
      "NMSE        1.202980   1.030719\n",
      "MAPE       23.113354  26.763393\n",
      "R-square   -0.447160  -0.062382\n"
     ]
    }
   ],
   "source": [
    "evl = {'Metric': ['MSE','MAE', 'NMSE', 'MAPE', 'R-square'],\n",
    "        'C': [mse1,mae1, nmse1, mape1, r2_1],\n",
    "        'R': [mse2,mae2, nmse2, mape2, r2_2]}\n",
    "\n",
    "# Create a DataFrame\n",
    "results_df = pd.DataFrame(evl)\n",
    "\n",
    "# Set the index to the 'Metric' column\n",
    "results_df.set_index('Metric', inplace=True)\n",
    "\n",
    "# Display the DataFrame\n",
    "print(results_df)"
   ]
  },
  {
   "attachments": {},
   "cell_type": "markdown",
   "metadata": {},
   "source": [
    "                   C          R\n",
    "Metric                         \n",
    "MSE       192.849930  30.221387\n",
    "MAE        10.739761   3.741938\n",
    "NMSE        1.202980   1.030719\n",
    "MAPE       23.113354  26.763393\n",
    "R-square   -0.447160  -0.062382"
   ]
  },
  {
   "cell_type": "code",
   "execution_count": 28,
   "metadata": {},
   "outputs": [],
   "source": [
    "import numpy as np\n",
    "import matplotlib.pyplot as plt\n",
    "\n",
    "class BlandAltman:\n",
    "    def __init__(self, output_data_unscaled, pre_data_unscaled):\n",
    "        self.output_data_unscaled = output_data_unscaled\n",
    "        self.pre_data_unscaled = pre_data_unscaled\n",
    "\n",
    "    def plot(self, x_label, start, xlim_range,start_y,ylim_range):\n",
    "        # Convert the values to numpy arrays\n",
    "        output_data = np.asarray(self.output_data_unscaled)\n",
    "        pre_data = np.asarray(self.pre_data_unscaled)\n",
    "\n",
    "        # Calculate the difference and mean\n",
    "        diff = output_data - pre_data\n",
    "        mean = (output_data + pre_data) / 2\n",
    "\n",
    "        # Calculate the percentage difference between predictions and targets\n",
    "        percentage_diff = (diff / mean) * 100\n",
    "\n",
    "        # Calculate the mean and standard deviation of the percentage difference\n",
    "        mean_diff = np.mean(percentage_diff)\n",
    "        std_diff = np.std(percentage_diff)\n",
    "\n",
    "        overestimate_indices = []\n",
    "        underestimate_indices = []\n",
    "        # Find indices of outliers\n",
    "        outlier_indices = []\n",
    "\n",
    "        for i, percentage_error in enumerate(percentage_diff):\n",
    "            if percentage_error > 20:  # overestimate\n",
    "                outlier_indices.append(i)\n",
    "                overestimate_indices.append(i)\n",
    "            elif percentage_error < -20:  # underestimate\n",
    "                outlier_indices.append(i)\n",
    "                underestimate_indices.append(i)\n",
    "\n",
    "        # Plot the Bland-Altman plot with percentage difference\n",
    "        fig, ax = plt.subplots(figsize=(8, 5.5))\n",
    "        for i in range(len(percentage_diff)):\n",
    "            if i in outlier_indices:\n",
    "                ax.scatter(output_data[i], percentage_diff[i], color='red', s=15)\n",
    "            else:\n",
    "                ax.scatter(output_data[i], percentage_diff[i], color='blue', s=15)\n",
    "        ax.axhline(mean_diff, color='gray', linestyle='--',lw = 2)\n",
    "        upper_limit = mean_diff + 1.96 * std_diff\n",
    "        lower_limit = mean_diff - 1.96 * std_diff\n",
    "        ax.axhline(mean_diff + 1.96 * std_diff, color='gray', linestyle='--',lw = 2)\n",
    "        ax.axhline(mean_diff - 1.96 * std_diff, color='gray', linestyle='--',lw = 2)\n",
    "        ax.axhline(20, color='green', linestyle='-',lw = 2.5)\n",
    "        ax.axhline(-20, color='green', linestyle='-',lw = 2.5)\n",
    "        ax.set_xlabel(x_label, fontsize=14)\n",
    "        ax.set_ylabel('Percentage Difference between Predictions and Targets', fontsize=11)\n",
    "        #ax.set_title('Bland-Altman Plot', fontsize=16)\n",
    "        ax.tick_params(axis='both', which='major', labelsize=12)\n",
    "        ax.set_xlim(start, xlim_range)\n",
    "        ax.set_ylim(start_y, ylim_range)\n",
    "        #yticks = np.arange(start_y, ylim_range + 1, 10)  \n",
    "        #plt.yticks(yticks)\n",
    "        ax.set_yticks([-60,-50,-40,-30,-20,-10, 0, 10,20,30,40,50,60])\n",
    "        plt.show()\n",
    "        print(\"The Y-coordinate for the upper gray line is: \", upper_limit)\n",
    "        print(\"The Y-coordinate for the lower gray line is: \", lower_limit)\n",
    "        print(f\"Mean difference line Y-value: {mean_diff}\")\n",
    "        # Print indices of outliers\n",
    "        #print(\"Indices of outliers: \", outlier_indices)\n",
    "        #print(\"Indices of overestimations: \", overestimate_indices)\n",
    "        #print(\"Indices of underestimations: \", underestimate_indices)\n",
    "        return outlier_indices, overestimate_indices, underestimate_indices\n"
   ]
  },
  {
   "cell_type": "code",
   "execution_count": 29,
   "metadata": {},
   "outputs": [
    {
     "data": {
      "image/png": "[encoded data removed]",
      "text/plain": [
       "<Figure size 800x550 with 1 Axes>"
      ]
     },
     "metadata": {},
     "output_type": "display_data"
    },
    {
     "name": "stdout",
     "output_type": "stream",
     "text": [
      "The Y-coordinate for the upper gray line is:  62.39869175225712\n",
      "The Y-coordinate for the lower gray line is:  -49.619772649306256\n",
      "Mean difference line Y-value: 6.389459551475431\n"
     ]
    },
    {
     "data": {
      "image/png": "[encoded data removed]",
      "text/plain": [
       "<Figure size 800x550 with 1 Axes>"
      ]
     },
     "metadata": {},
     "output_type": "display_data"
    },
    {
     "name": "stdout",
     "output_type": "stream",
     "text": [
      "The Y-coordinate for the upper gray line is:  47.49013055668686\n",
      "The Y-coordinate for the lower gray line is:  -65.65164612956139\n",
      "Mean difference line Y-value: -9.080757786437262\n"
     ]
    }
   ],
   "source": [
    "bland_C = BlandAltman(output_data_unscaled1, pre_data_unscaled1)\n",
    "bland_R = BlandAltman(output_data_unscaled2, pre_data_unscaled2)\n",
    "\n",
    "outlier_indices_C = bland_C.plot('True Compliance Value',25,63,-70,70)\n",
    "outlier_indices_R = bland_R.plot('True Resistance Value',10,21,-70,50) "
   ]
  },
  {
   "cell_type": "code",
   "execution_count": null,
   "metadata": {},
   "outputs": [],
   "source": [
    "plt.figure(figsize=(12, 6))\n",
    "plt.plot(history.history['loss'])\n",
    "plt.plot(history.history['val_loss'])\n",
    "plt.title('Model loss')\n",
    "plt.ylabel('Loss')\n",
    "plt.xlabel('Epoch')\n",
    "plt.legend(['Train', 'Validation'], loc='upper right')\n",
    "plt.show()"
   ]
  },
  {
   "cell_type": "code",
   "execution_count": null,
   "metadata": {},
   "outputs": [],
   "source": []
  }
 ],
 "metadata": {
  "kernelspec": {
   "display_name": "Junwei",
   "language": "python",
   "name": "python3"
  },
  "language_info": {
   "codemirror_mode": {
    "name": "ipython",
    "version": 3
   },
   "file_extension": ".py",
   "mimetype": "text/x-python",
   "name": "python",
   "nbconvert_exporter": "python",
   "pygments_lexer": "ipython3",
   "version": "3.11.3"
  },
  "orig_nbformat": 4
 },
 "nbformat": 4,
 "nbformat_minor": 2
}
