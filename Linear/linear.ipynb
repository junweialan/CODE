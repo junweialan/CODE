{
 "cells": [
  {
   "cell_type": "code",
   "execution_count": 1,
   "metadata": {},
   "outputs": [],
   "source": [
    "import matplotlib.pyplot as plt\n",
    "import numpy as np\n",
    "import pandas as pd\n",
    "from sklearn.model_selection import train_test_split\n",
    "from sklearn.metrics import mean_squared_error\n",
    "from scipy.signal import stft\n",
    "import os\n",
    "import pandas as pd\n",
    "import sys\n",
    "import glob\n",
    "import torch\n",
    "from torch import nn, Tensor\n",
    "import torch.optim as optim\n",
    "from torch.utils.data import DataLoader, TensorDataset\n",
    "import math\n",
    "from sklearn.preprocessing import MinMaxScaler\n",
    "import nbimporter\n",
    "from transformer_model import WordPiece, Evaluator, BlandAltman2, Objective, BestModelLoader, normalize_data1, normalize_data2, denormalize_data,scatter,find_ids\n",
    "from sklearn.metrics import mean_squared_error, mean_absolute_error,mean_absolute_percentage_error,r2_score\n",
    "from torch.nn.utils.rnn import pad_sequence\n",
    "from tokenizers import Tokenizer, models, pre_tokenizers, trainers, decoders\n",
    "import optuna\n",
    "import json\n",
    "from dataprocess import OutputDataProcessor, DataProcessor, pad_truncate_sequences,DatasetManager\n",
    "import pickle"
   ]
  },
  {
   "cell_type": "code",
   "execution_count": 2,
   "metadata": {},
   "outputs": [],
   "source": [
    "import logging\n",
    "import random\n",
    "def set_seed(seed):\n",
    "    \"\"\" Set all seeds to make results reproducible (deterministic mode).\n",
    "        When seed is a false-y value or not supplied, disables deterministic mode. \"\"\"\n",
    "\n",
    "    if seed:\n",
    "        logging.info(f\"Running in deterministic mode with seed {seed}\")\n",
    "        torch.manual_seed(seed)\n",
    "        torch.cuda.manual_seed_all(seed)\n",
    "        torch.backends.cudnn.deterministic = True\n",
    "        torch.backends.cudnn.benchmark = False\n",
    "        np.random.seed(seed)\n",
    "        random.seed(seed)\n",
    "        os.environ['PYTHONHASHSEED'] = str(seed)\n",
    "    else:\n",
    "        logging.info(f\"Running in non-deterministic mode\")\n",
    "\n",
    "set_seed(0)"
   ]
  },
  {
   "cell_type": "code",
   "execution_count": 3,
   "metadata": {},
   "outputs": [],
   "source": [
    "data = np.load(r'F:\\junwei\\CNN\\CNN_keras\\data.npy')\n",
    "output_data = pd.read_excel('F:\\junwei\\dataset\\_MASTER_modified.xlsx',usecols=['Crs', 'R'])\n",
    "train = pd.read_csv(r'F:\\junwei\\CNN\\CNN_keras\\train.csv')\n",
    "test = pd.read_csv(r'F:\\junwei\\CNN\\CNN_keras\\test.csv')\n",
    "val = pd.read_csv(r'F:\\junwei\\CNN\\CNN_keras\\val.csv')\n",
    "volume = data[:,:,0]\n",
    "flow = data[:,:,1]\n",
    "pressure= data[:,:,2]\n",
    "Crs = output_data['Crs']\n",
    "R = output_data['R']\n",
    "Crs = Crs.T\n",
    "R= R.T\n",
    "flow = flow.T\n",
    "pressure = pressure.T\n",
    "volume = volume.T\n",
    "num_examples = flow.shape[0]\n",
    "num_samples = flow.shape[1]\n",
    "\n",
    "output_data = np.stack((Crs,R),axis=1)\n",
    "output_data = pd.DataFrame(output_data)\n",
    "output_data = output_data.rename(columns={0: \"Crs\", 1: \"R\"})\n",
    "signals = np.stack([flow, volume, pressure], axis=2)\n",
    "signals = np.transpose(signals, (1, 0, 2))\n",
    "indices_train = train['Unnamed: 0'].values\n",
    "indices_test = test['Unnamed: 0'].values\n",
    "indices_val = val['Unnamed: 0'].values\n",
    "train_input = signals[indices_train,:,:]\n",
    "test_input = signals[indices_test,:,:]\n",
    "val_input = signals[indices_val,:,:]\n",
    "train_output = output_data.loc[indices_train]\n",
    "test_output = output_data.loc[indices_test]\n",
    "val_output = output_data.loc[indices_val]"
   ]
  },
  {
   "cell_type": "code",
   "execution_count": 4,
   "metadata": {},
   "outputs": [],
   "source": [
    "import numpy as np\n",
    "from scipy.signal import argrelextrema\n",
    "\n",
    "def extract_signal_features(input_array):\n",
    "    features = []\n",
    "    median_maxima = []\n",
    "    median_minima = []\n",
    "\n",
    "    for sample in input_array:\n",
    "        sample_features = []\n",
    "        sample_maxima = []\n",
    "        sample_minima = []\n",
    "        \n",
    "        for signal in sample.T:  # Transpose to iterate over signals instead of time steps\n",
    "            maxima_indices = argrelextrema(signal, np.greater)[0]\n",
    "            minima_indices = argrelextrema(signal, np.less)[0]\n",
    "\n",
    "            min_length = min(len(maxima_indices), len(minima_indices))\n",
    "            maxima_indices = maxima_indices[:min_length]\n",
    "            minima_indices = minima_indices[:min_length]\n",
    "\n",
    "            differences = signal[maxima_indices] - signal[minima_indices]\n",
    "            feature = np.median(differences)\n",
    "            sample_features.append(feature)\n",
    "\n",
    "            median_max = np.median(signal[maxima_indices])\n",
    "            median_min = np.median(signal[minima_indices])\n",
    "            sample_maxima.append(median_max)\n",
    "            sample_minima.append(median_min)\n",
    "        \n",
    "        features.append(sample_features)\n",
    "        median_maxima.append(sample_maxima)\n",
    "        median_minima.append(sample_minima)\n",
    "\n",
    "    features = np.array(features)\n",
    "    median_maxima = np.array(median_maxima)\n",
    "    median_minima = np.array(median_minima)\n",
    "\n",
    "    return np.concatenate((features, median_maxima, median_minima), axis=1)\n",
    "\n",
    "# usage\n",
    "train_features = extract_signal_features(train_input)\n",
    "test_features = extract_signal_features(test_input)\n",
    "\n"
   ]
  },
  {
   "cell_type": "code",
   "execution_count": 5,
   "metadata": {},
   "outputs": [
    {
     "data": {
      "text/plain": [
       "(309, 9)"
      ]
     },
     "execution_count": 5,
     "metadata": {},
     "output_type": "execute_result"
    }
   ],
   "source": [
    "train_features.shape"
   ]
  },
  {
   "cell_type": "code",
   "execution_count": 6,
   "metadata": {},
   "outputs": [],
   "source": [
    "from sklearn.linear_model import LinearRegression\n",
    "from sklearn import metrics\n",
    "\n",
    "clf = LinearRegression()\n",
    "clf = clf.fit(train_features, train_output)\n",
    "predicted = clf.predict(test_features)\n",
    "test_output = test_output.to_numpy()\n"
   ]
  },
  {
   "cell_type": "code",
   "execution_count": 7,
   "metadata": {},
   "outputs": [
    {
     "name": "stdout",
     "output_type": "stream",
     "text": [
      "<class 'numpy.ndarray'>\n",
      "<class 'numpy.ndarray'>\n"
     ]
    }
   ],
   "source": [
    "print(type(predicted))\n",
    "print(type(test_output))\n"
   ]
  },
  {
   "cell_type": "code",
   "execution_count": 8,
   "metadata": {},
   "outputs": [
    {
     "name": "stdout",
     "output_type": "stream",
     "text": [
      "MAPE for C: 16.663184128928286\n",
      "MAE for C: 7.359818845089431\n",
      "MSE for C: 91.82911048847423\n",
      "\n",
      "MAPE for R: 22.13913068565065\n",
      "MAE for R: 3.3356176554098096\n",
      "MSE for R: 30.818531332465337\n"
     ]
    }
   ],
   "source": [
    "print(f\"MAPE for C: {metrics.mean_absolute_percentage_error(test_output[:, 0], predicted[:, 0])*100}\")\n",
    "print(f\"MAE for C: {metrics.mean_absolute_error(test_output[:, 0], predicted[:, 0])}\")\n",
    "print(f\"MSE for C: {metrics.mean_squared_error(test_output[:, 0], predicted[:, 0])}\")\n",
    "print()\n",
    "print(f\"MAPE for R: {metrics.mean_absolute_percentage_error(test_output[:, 1], predicted[:, 1])*100}\")\n",
    "print(f\"MAE for R: {metrics.mean_absolute_error(test_output[:, 1], predicted[:, 1])}\")\n",
    "print(f\"MSE for R: {metrics.mean_squared_error(test_output[:, 1], predicted[:, 1])}\")"
   ]
  },
  {
   "cell_type": "code",
   "execution_count": 9,
   "metadata": {},
   "outputs": [],
   "source": [
    "import numpy as np\n",
    "import matplotlib.pyplot as plt\n",
    "\n",
    "class BlandAltman2:\n",
    "    def __init__(self, output_data_unscaled, pre_data_unscaled):\n",
    "        self.output_data_unscaled = output_data_unscaled\n",
    "        self.pre_data_unscaled = pre_data_unscaled\n",
    "\n",
    "    def plot(self, x_label, start, xlim_range,start_y,ylim_range):\n",
    "        # Convert the values to numpy arrays\n",
    "        output_data = np.asarray(self.output_data_unscaled)\n",
    "        pre_data = np.asarray(self.pre_data_unscaled)\n",
    "\n",
    "        # Calculate the difference and mean\n",
    "        diff = output_data - pre_data\n",
    "        mean = (output_data + pre_data) / 2\n",
    "\n",
    "        # Calculate the percentage difference between predictions and targets\n",
    "        percentage_diff = (diff / mean) * 100\n",
    "\n",
    "        # Calculate the mean and standard deviation of the percentage difference\n",
    "        mean_diff = np.mean(percentage_diff)\n",
    "        std_diff = np.std(percentage_diff)\n",
    "\n",
    "        overestimate_indices = []\n",
    "        underestimate_indices = []\n",
    "        # Find indices of outliers\n",
    "        outlier_indices = []\n",
    "\n",
    "        for i, percentage_error in enumerate(percentage_diff):\n",
    "            if percentage_error > 20:  # overestimate\n",
    "                outlier_indices.append(i)\n",
    "                overestimate_indices.append(i)\n",
    "            elif percentage_error < -20:  # underestimate\n",
    "                outlier_indices.append(i)\n",
    "                underestimate_indices.append(i)\n",
    "\n",
    "        # Plot the Bland-Altman plot with percentage difference\n",
    "        fig, ax = plt.subplots(figsize=(8, 5.5))\n",
    "        for i in range(len(percentage_diff)):\n",
    "            if i in outlier_indices:\n",
    "                ax.scatter(output_data[i], percentage_diff[i], color='red', s=15)\n",
    "            else:\n",
    "                ax.scatter(output_data[i], percentage_diff[i], color='blue', s=15)\n",
    "        ax.axhline(mean_diff, color='gray', linestyle='--',lw = 2)\n",
    "        upper_limit = mean_diff + 1.96 * std_diff\n",
    "        lower_limit = mean_diff - 1.96 * std_diff\n",
    "        ax.axhline(mean_diff + 1.96 * std_diff, color='gray', linestyle='--',lw = 2)\n",
    "        ax.axhline(mean_diff - 1.96 * std_diff, color='gray', linestyle='--',lw = 2)\n",
    "        ax.axhline(20, color='green', linestyle='-',lw = 2.5)\n",
    "        ax.axhline(-20, color='green', linestyle='-',lw = 2.5)\n",
    "        ax.set_xlabel(x_label, fontsize=14)\n",
    "        ax.set_ylabel('Percentage Difference between Predictions and Targets', fontsize=11)\n",
    "        #ax.set_title('Bland-Altman Plot', fontsize=16)\n",
    "        ax.tick_params(axis='both', which='major', labelsize=12)\n",
    "        ax.set_xlim(start, xlim_range)\n",
    "        ax.set_ylim(start_y, ylim_range)\n",
    "        #yticks = np.arange(start_y, ylim_range + 1, 10)  \n",
    "        #plt.yticks(yticks)\n",
    "        ax.set_yticks([-60,-50,-40,-30,-20,-10, 0, 10,20,30,40,50,60])\n",
    "        plt.show()\n",
    "        print(\"The Y-coordinate for the upper gray line is: \", upper_limit)\n",
    "        print(\"The Y-coordinate for the lower gray line is: \", lower_limit)\n",
    "        print(f\"Mean difference line Y-value: {mean_diff}\")\n",
    "        # Print indices of outliers\n",
    "        #print(\"Indices of outliers: \", outlier_indices)\n",
    "        #print(\"Indices of overestimations: \", overestimate_indices)\n",
    "        #print(\"Indices of underestimations: \", underestimate_indices)\n",
    "        return outlier_indices, overestimate_indices, underestimate_indices\n"
   ]
  },
  {
   "cell_type": "code",
   "execution_count": 10,
   "metadata": {},
   "outputs": [
    {
     "data": {
      "image/png": "[encoded data removed]",
      "text/plain": [
       "<Figure size 800x550 with 1 Axes>"
      ]
     },
     "metadata": {},
     "output_type": "display_data"
    },
    {
     "name": "stdout",
     "output_type": "stream",
     "text": [
      "The Y-coordinate for the upper gray line is:  38.3467398838463\n",
      "The Y-coordinate for the lower gray line is:  -40.979159749683845\n",
      "Mean difference line Y-value: -1.3162099329187742\n"
     ]
    },
    {
     "data": {
      "image/png": "[encoded data removed]",
      "text/plain": [
       "<Figure size 800x550 with 1 Axes>"
      ]
     },
     "metadata": {},
     "output_type": "display_data"
    },
    {
     "name": "stdout",
     "output_type": "stream",
     "text": [
      "The Y-coordinate for the upper gray line is:  52.28875528394429\n",
      "The Y-coordinate for the lower gray line is:  -57.9855834375665\n",
      "Mean difference line Y-value: -2.8484140768111015\n"
     ]
    }
   ],
   "source": [
    "bland_C = BlandAltman2(test_output[:, 0], predicted[:, 0])\n",
    "bland_R = BlandAltman2(test_output[:, 1], predicted[:, 1])\n",
    "\n",
    "outlier_indices_C = bland_C.plot('True Compliance Value',25,60,-60,40)\n",
    "outlier_indices_R = bland_R.plot('True Resistance Value',5,25,-70,50) "
   ]
  },
  {
   "cell_type": "code",
   "execution_count": null,
   "metadata": {},
   "outputs": [],
   "source": []
  },
  {
   "cell_type": "code",
   "execution_count": 9,
   "metadata": {},
   "outputs": [],
   "source": [
    "#index1 = 296\n",
    "#plt.figure()\n",
    "#plt.plot(flow[index1])\n",
    "#plt.xlabel('Time')\n",
    "#plt.ylabel('Flow')\n",
    "#plt.title('Flow - Sample {}'.format(index1))\n",
    "#plt.show()\n",
    "\n",
    "# Plot for pressure\n",
    "#plt.figure()\n",
    "#plt.plot(pressure[index1])\n",
    "#plt.xlabel('Time')\n",
    "#plt.ylabel('Pressure')\n",
    "#plt.title('Pressure - Sample {}'.format(index1))\n",
    "#plt.show()\n",
    "\n",
    "# Plot for volume\n",
    "##plt.figure()\n",
    "#plt.plot(volume[index1])\n",
    "#plt.xlabel('Time')\n",
    "#plt.ylabel('Volume')\n",
    "#plt.title('Volume - Sample {}'.format(index1))\n",
    "#plt.show()"
   ]
  },
  {
   "cell_type": "code",
   "execution_count": 10,
   "metadata": {},
   "outputs": [],
   "source": [
    "#plt.scatter(C_true, C_pre)\n",
    "\n",
    "# Add labels and title\n",
    "##plt.xlabel('C_true')\n",
    "#plt.ylabel('C_pre')\n",
    "#plt.title('C_true vs C_pre')\n",
    "\n",
    "# Display the plot\n",
    "#plt.show()"
   ]
  },
  {
   "cell_type": "code",
   "execution_count": 11,
   "metadata": {},
   "outputs": [],
   "source": [
    "#sequence_tokenizer = WordPiece(vocab_size=2000,max_seq_len=60)\n",
    "#sequence_tokenizer.train_tokenizer(data)\n",
    "#directory = r'F:\\junwei\\final_tranformer\\transformer_C _R\\wordpiece'\n",
    "\n",
    "#file_path = os.path.join(directory, 'sequence_tokenizer.pkl')\n",
    "\n",
    "#with open(file_path, 'wb') as f:\n",
    "#   pickle.dump(sequence_tokenizer, f)"
   ]
  },
  {
   "cell_type": "code",
   "execution_count": 12,
   "metadata": {},
   "outputs": [],
   "source": [
    "#train_data.to_pickle(r'F:\\junwei\\final_tranformer\\train_test_val\\train_data.pickle')\n",
    "#test_data.to_pickle(r'F:\\junwei\\final_tranformer\\train_test_val\\test_data.pickle')\n",
    "#val_data.to_pickle(r'F:\\junwei\\final_tranformer\\train_test_val\\val_data.pickle')"
   ]
  },
  {
   "cell_type": "code",
   "execution_count": 13,
   "metadata": {},
   "outputs": [
    {
     "ename": "NameError",
     "evalue": "name 'padded_data' is not defined",
     "output_type": "error",
     "traceback": [
      "\u001b[1;31m---------------------------------------------------------------------------\u001b[0m",
      "\u001b[1;31mNameError\u001b[0m                                 Traceback (most recent call last)",
      "Cell \u001b[1;32mIn[13], line 73\u001b[0m\n\u001b[0;32m     70\u001b[0m     \u001b[39mreturn\u001b[39;00m lengths_dict\n\u001b[0;32m     72\u001b[0m \u001b[39m# Call the function\u001b[39;00m\n\u001b[1;32m---> 73\u001b[0m lengths_dict \u001b[39m=\u001b[39m count_lengths(padded_data)\n\u001b[0;32m     75\u001b[0m \u001b[39m# Print the result\u001b[39;00m\n\u001b[0;32m     76\u001b[0m \u001b[39mfor\u001b[39;00m k, v \u001b[39min\u001b[39;00m lengths_dict\u001b[39m.\u001b[39mitems():\n",
      "\u001b[1;31mNameError\u001b[0m: name 'padded_data' is not defined"
     ]
    }
   ],
   "source": [
    "import numpy as np\n",
    "\n",
    "def count_lengths(data):\n",
    "    lengths_dict = {\n",
    "        '70-80': 0,\n",
    "        '80-90': 0,\n",
    "        '90-100': 0,\n",
    "        '100-110': 0,\n",
    "        '110-120': 0,\n",
    "        '120-130': 0,\n",
    "        '130-140': 0,\n",
    "        '140-150': 0,\n",
    "        '150-160': 0,\n",
    "        '160-170': 0,\n",
    "        '170-180': 0,\n",
    "        '180-190': 0,\n",
    "        '190-200': 0,\n",
    "        '200-210': 0,\n",
    "        '210-220': 0,\n",
    "        '220-230': 0,\n",
    "        '230-240': 0,\n",
    "        '250-260': 0\n",
    "    }\n",
    "\n",
    "    for sentence in data:\n",
    "        # Remove padding\n",
    "        sentence = sentence[sentence != 0]\n",
    "        \n",
    "        # Count length\n",
    "        length = len(sentence)\n",
    "\n",
    "        # Classify length\n",
    "        if 70 <= length < 80:\n",
    "            lengths_dict['70-80'] += 1\n",
    "        elif 80 <= length < 90:\n",
    "            lengths_dict['80-90'] += 1\n",
    "        elif 90 <= length < 100:\n",
    "            lengths_dict['90-100'] += 1\n",
    "        elif 100 <= length < 110:\n",
    "            lengths_dict['100-110'] += 1\n",
    "        elif 110 <= length < 120:\n",
    "            lengths_dict['110-120'] += 1\n",
    "        elif 120 <= length < 130:\n",
    "            lengths_dict['120-130'] += 1\n",
    "        elif 130 <= length < 140:\n",
    "            lengths_dict['130-140'] += 1\n",
    "        elif 140 <= length < 150:\n",
    "            lengths_dict['140-150'] += 1\n",
    "        elif 150 <= length < 160:\n",
    "            lengths_dict['150-160'] += 1\n",
    "        elif 160 <= length < 170:\n",
    "            lengths_dict['160-170'] += 1\n",
    "        elif 170 <= length < 180:\n",
    "            lengths_dict['170-180'] += 1\n",
    "        elif 180 <= length < 190:\n",
    "            lengths_dict['180-190'] += 1\n",
    "        elif 190 <= length < 200:\n",
    "            lengths_dict['190-200'] += 1\n",
    "        elif 200 <= length < 210:\n",
    "            lengths_dict['200-210'] += 1\n",
    "        elif 210 <= length < 220:\n",
    "            lengths_dict['210-220'] += 1\n",
    "        elif 220 <= length < 230:\n",
    "            lengths_dict['220-230'] += 1\n",
    "        elif 230 <= length < 240:\n",
    "            lengths_dict['230-240'] += 1\n",
    "        elif 240 <= length < 250:\n",
    "            lengths_dict['240-250'] += 1\n",
    "\n",
    "    return lengths_dict\n",
    "\n",
    "# Call the function\n",
    "lengths_dict = count_lengths(padded_data)\n",
    "\n",
    "# Print the result\n",
    "for k, v in lengths_dict.items():\n",
    "    print(f\"Number of samples with length {k}: {v}\")\n"
   ]
  }
 ],
 "metadata": {
  "kernelspec": {
   "display_name": "Junwei",
   "language": "python",
   "name": "python3"
  },
  "language_info": {
   "codemirror_mode": {
    "name": "ipython",
    "version": 3
   },
   "file_extension": ".py",
   "mimetype": "text/x-python",
   "name": "python",
   "nbconvert_exporter": "python",
   "pygments_lexer": "ipython3",
   "version": "3.11.3"
  },
  "orig_nbformat": 4
 },
 "nbformat": 4,
 "nbformat_minor": 2
}
